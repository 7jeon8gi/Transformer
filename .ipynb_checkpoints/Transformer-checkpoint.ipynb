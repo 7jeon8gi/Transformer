{
 "cells": [
  {
   "cell_type": "code",
   "execution_count": 1,
   "metadata": {},
   "outputs": [],
   "source": [
    "import torch\n",
    "import torch.nn as nn\n",
    "import numpy as np\n",
    "from IPython.display import Image\n",
    "import matplotlib.pyplot as plt"
   ]
  },
  {
   "cell_type": "markdown",
   "metadata": {},
   "source": [
    "# Encoder\n",
    "![title](input.png)"
   ]
  },
  {
   "cell_type": "markdown",
   "metadata": {},
   "source": [
    "### Input Embedding"
   ]
  },
  {
   "cell_type": "code",
   "execution_count": 210,
   "metadata": {},
   "outputs": [],
   "source": [
    "# we use learned embeddings to convert the input tokens and output tokens to vectors of dimension dmodel.\n",
    "\n",
    "num_embeddings = 1000 # word piece 필요\n",
    "d_model = 8 # 실제로는 128\n",
    "padding_idx = 0 # 문장의 길이를 통일하기 위한 패딩\n",
    "\n",
    "nn_emb = nn.Embedding(num_embeddings = num_embeddings, embedding_dim=d_model, padding_idx=padding_idx)"
   ]
  },
  {
   "cell_type": "code",
   "execution_count": 211,
   "metadata": {},
   "outputs": [],
   "source": [
    "# 가상의 텍스트 = \"배 고프다 _ _ _ _ _ _ _. 집에 가고 싶다._ _ _ _ _\"\n",
    "#[[1,23,3,0,0],[4,3,2,55,52]]\n",
    "\n",
    "inputs = torch.LongTensor([[1,23,3,1,1,0,0,0,0,0],[4,3,2,55,52,1,0,0,0,0]])"
   ]
  },
  {
   "cell_type": "code",
   "execution_count": 212,
   "metadata": {},
   "outputs": [
    {
     "name": "stdout",
     "output_type": "stream",
     "text": [
      "torch.Size([2, 10, 8])\n"
     ]
    }
   ],
   "source": [
    "inputs_emb = nn_emb(inputs)\n",
    "print(inputs_emb.size()) # 2문장 10토큰 8디멘션"
   ]
  },
  {
   "cell_type": "code",
   "execution_count": 215,
   "metadata": {},
   "outputs": [
    {
     "name": "stdout",
     "output_type": "stream",
     "text": [
      "--------------- input------------------------\n",
      "tensor([[  1,  23,  10, 100,   5,   0,   0,   0,   0,   0]])\n",
      "--------------- nn.Embedding ----------------\n",
      "torch.Size([1, 10, 8])\n"
     ]
    }
   ],
   "source": [
    "#\"text1 = 나 밥 먹고 싶 다. 나 도 훌 훌 훌 훌\"\n",
    "print(\"--------------- input------------------------\")\n",
    "text1 = torch.LongTensor([[1,23,10,100,5,0,0,0,0,0]])\n",
    "print(text1)\n",
    "print(\"--------------- nn.Embedding ----------------\")\n",
    "text1 = nn_emb(text1)\n",
    "print(text1.size())"
   ]
  },
  {
   "cell_type": "markdown",
   "metadata": {},
   "source": [
    "### Positional Embedding"
   ]
  },
  {
   "cell_type": "code",
   "execution_count": 147,
   "metadata": {},
   "outputs": [],
   "source": [
    "# for 1 sentence\n",
    "for pos ,v in enumerate(text1[0]):\n",
    "    position = torch.zeros(d_model)\n",
    "    for d_i , w in enumerate(v):\n",
    "        if d_i % 2 ==0:\n",
    "            PE = np.sin(np.sin(pos / np.power(10000, (2* d_i / d_model))))\n",
    "            position[d_i] += PE\n",
    "        else:\n",
    "            PE = np.cos(pos / np.power(10000, (2* d_i / d_model)))\n",
    "            position[d_i] +=PE\n",
    "            "
   ]
  },
  {
   "cell_type": "code",
   "execution_count": 148,
   "metadata": {},
   "outputs": [
    {
     "data": {
      "text/plain": [
       "tensor([4.0055e-01, 6.2161e-01, 8.9758e-02, 9.9996e-01, 9.0000e-04, 1.0000e+00,\n",
       "        9.0000e-06, 1.0000e+00])"
      ]
     },
     "execution_count": 148,
     "metadata": {},
     "output_type": "execute_result"
    }
   ],
   "source": [
    "position"
   ]
  },
  {
   "cell_type": "code",
   "execution_count": 162,
   "metadata": {},
   "outputs": [],
   "source": [
    "def positional(sequence):\n",
    "    def calculate(position, d_i):\n",
    "        return position / np.power(10000, (2* d_i / d_model))\n",
    "    def PE(position):\n",
    "        return [calculate(position, d_i) for d_i in range(d_model)] #0,1, 2, ... ,127\n",
    "    \n",
    "    sinusoid_table = np.array([PE(seq) for seq in range(sequence)])\n",
    "    sinusoid_table[:, 0::2] = np.sin(sinusoid_table[:,0::2])\n",
    "    sinusoid_table[:, 1::2] = np.cos(sinusoid_table[:,1::2])\n",
    "    \n",
    "    return torch.from_numpy(sinusoid_table)"
   ]
  },
  {
   "cell_type": "code",
   "execution_count": 163,
   "metadata": {},
   "outputs": [],
   "source": [
    "n_seq = 8\n",
    "pos_embedding = positional(n_seq)"
   ]
  },
  {
   "cell_type": "code",
   "execution_count": 164,
   "metadata": {},
   "outputs": [
    {
     "name": "stdout",
     "output_type": "stream",
     "text": [
      "torch.Size([8, 8])\n"
     ]
    },
    {
     "data": {
      "image/png": "[encoded data removed]",
      "text/plain": [
       "<Figure size 432x288 with 2 Axes>"
      ]
     },
     "metadata": {
      "needs_background": "light"
     },
     "output_type": "display_data"
    }
   ],
   "source": [
    "print (pos_embedding.shape) # 크기 출력\n",
    "plt.pcolormesh(pos_embedding, cmap='RdBu')\n",
    "plt.xlabel('Depth')\n",
    "plt.xlim((0, d_model))\n",
    "plt.ylabel('Position')\n",
    "plt.colorbar()\n",
    "plt.show()"
   ]
  },
  {
   "cell_type": "code",
   "execution_count": null,
   "metadata": {},
   "outputs": [],
   "source": []
  }
 ],
 "metadata": {
  "kernelspec": {
   "display_name": "Python 3",
   "language": "python",
   "name": "python3"
  },
  "language_info": {
   "codemirror_mode": {
    "name": "ipython",
    "version": 3
   },
   "file_extension": ".py",
   "mimetype": "text/x-python",
   "name": "python",
   "nbconvert_exporter": "python",
   "pygments_lexer": "ipython3",
   "version": "3.7.5"
  }
 },
 "nbformat": 4,
 "nbformat_minor": 2
}
